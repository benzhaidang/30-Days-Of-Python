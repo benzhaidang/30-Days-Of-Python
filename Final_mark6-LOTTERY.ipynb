{
  "cells": [
    {
      "cell_type": "markdown",
      "metadata": {
        "id": "view-in-github",
        "colab_type": "text"
      },
      "source": [
        "<a href=\"https://colab.research.google.com/github/benzhaidang/30-Days-Of-Python/blob/master/Final_mark6-LOTTERY.ipynb\" target=\"_parent\"><img src=\"https://colab.research.google.com/assets/colab-badge.svg\" alt=\"Open In Colab\"/></a>"
      ]
    },
    {
      "cell_type": "markdown",
      "metadata": {
        "id": "GG8etmziR3x3"
      },
      "source": [
        "## Initialization chrome driver"
      ],
      "id": "GG8etmziR3x3"
    },
    {
      "cell_type": "markdown",
      "source": [
        "I need to manually install chromedriver in Google Colab because Colab does not come with it pre-installed. As Colab's default runtime was changed from Ubuntu 18.04 LTS to Ubuntu 20.04 LTS, and chromium-browser is no longer distributed outside of the snap package. So the old method of installing Chromium via APT no longer works. By manually downloading the Chrome and chromedriver binaries, we can get around this issue and still use Selenium with Chrome in Colab notebooks.\n",
        "\n",
        "Reference: https://dev.classmethod.jp/articles/google-colaboratory-use-selenium/"
      ],
      "metadata": {
        "id": "2jW7Z_UN3Ble"
      },
      "id": "2jW7Z_UN3Ble"
    },
    {
      "cell_type": "code",
      "execution_count": null,
      "metadata": {
        "colab": {
          "base_uri": "https://localhost:8080/"
        },
        "id": "c0644c05",
        "outputId": "75d37093-f934-4333-ef35-446767498d56"
      },
      "outputs": [
        {
          "output_type": "stream",
          "name": "stdout",
          "text": [
            "Hit:1 http://archive.ubuntu.com/ubuntu jammy InRelease\n",
            "Get:2 http://archive.ubuntu.com/ubuntu jammy-updates InRelease [119 kB]\n",
            "Get:3 http://security.ubuntu.com/ubuntu jammy-security InRelease [110 kB]\n",
            "Get:4 https://cloud.r-project.org/bin/linux/ubuntu jammy-cran40/ InRelease [3,626 B]\n",
            "Hit:5 https://developer.download.nvidia.com/compute/cuda/repos/ubuntu2204/x86_64  InRelease\n",
            "Hit:6 http://archive.ubuntu.com/ubuntu jammy-backports InRelease\n",
            "Hit:7 https://ppa.launchpadcontent.net/c2d4u.team/c2d4u4.0+/ubuntu jammy InRelease\n",
            "Hit:8 https://ppa.launchpadcontent.net/deadsnakes/ppa/ubuntu jammy InRelease\n",
            "Hit:9 https://ppa.launchpadcontent.net/graphics-drivers/ppa/ubuntu jammy InRelease\n",
            "Hit:10 https://ppa.launchpadcontent.net/ubuntugis/ppa/ubuntu jammy InRelease\n",
            "Get:11 http://archive.ubuntu.com/ubuntu jammy-updates/restricted amd64 Packages [1,611 kB]\n",
            "Get:12 http://archive.ubuntu.com/ubuntu jammy-updates/main amd64 Packages [1,606 kB]\n",
            "Get:13 http://security.ubuntu.com/ubuntu jammy-security/main amd64 Packages [1,332 kB]\n",
            "Get:14 http://archive.ubuntu.com/ubuntu jammy-updates/universe amd64 Packages [1,307 kB]\n",
            "Get:15 http://security.ubuntu.com/ubuntu jammy-security/restricted amd64 Packages [1,582 kB]\n",
            "Get:16 http://security.ubuntu.com/ubuntu jammy-security/universe amd64 Packages [1,047 kB]\n",
            "Fetched 8,718 kB in 3s (2,635 kB/s)\n",
            "Reading package lists... Done\n",
            "Building dependency tree... Done\n",
            "Reading state information... Done\n",
            "24 packages can be upgraded. Run 'apt list --upgradable' to see them.\n",
            "Reading package lists... Done\n",
            "Building dependency tree... Done\n",
            "Reading state information... Done\n",
            "wget is already the newest version (1.21.2-2ubuntu1).\n",
            "curl is already the newest version (7.81.0-1ubuntu1.15).\n",
            "unzip is already the newest version (6.0-26ubuntu3.1).\n",
            "0 upgraded, 0 newly installed, 0 to remove and 24 not upgraded.\n",
            "--2024-01-06 09:48:53--  http://archive.ubuntu.com/ubuntu/pool/main/libu/libu2f-host/libu2f-udev_1.1.4-1_all.deb\n",
            "Resolving archive.ubuntu.com (archive.ubuntu.com)... 91.189.91.83, 185.125.190.36, 185.125.190.39, ...\n",
            "Connecting to archive.ubuntu.com (archive.ubuntu.com)|91.189.91.83|:80... connected.\n",
            "HTTP request sent, awaiting response... 200 OK\n",
            "Length: 3708 (3.6K) [application/vnd.debian.binary-package]\n",
            "Saving to: ‘libu2f-udev_1.1.4-1_all.deb’\n",
            "\n",
            "libu2f-udev_1.1.4-1 100%[===================>]   3.62K  --.-KB/s    in 0s      \n",
            "\n",
            "2024-01-06 09:48:53 (380 MB/s) - ‘libu2f-udev_1.1.4-1_all.deb’ saved [3708/3708]\n",
            "\n",
            "Selecting previously unselected package libu2f-udev.\n",
            "(Reading database ... 121654 files and directories currently installed.)\n",
            "Preparing to unpack libu2f-udev_1.1.4-1_all.deb ...\n",
            "Unpacking libu2f-udev (1.1.4-1) ...\n",
            "Setting up libu2f-udev (1.1.4-1) ...\n",
            "--2024-01-06 09:48:54--  https://dl.google.com/linux/direct/google-chrome-stable_current_amd64.deb\n",
            "Resolving dl.google.com (dl.google.com)... 173.194.192.93, 173.194.192.190, 173.194.192.136, ...\n",
            "Connecting to dl.google.com (dl.google.com)|173.194.192.93|:443... connected.\n",
            "HTTP request sent, awaiting response... 200 OK\n",
            "Length: 105001444 (100M) [application/x-debian-package]\n",
            "Saving to: ‘google-chrome-stable_current_amd64.deb’\n",
            "\n",
            "google-chrome-stabl 100%[===================>] 100.14M   114MB/s    in 0.9s    \n",
            "\n",
            "2024-01-06 09:48:55 (114 MB/s) - ‘google-chrome-stable_current_amd64.deb’ saved [105001444/105001444]\n",
            "\n",
            "Selecting previously unselected package google-chrome-stable.\n",
            "(Reading database ... 121658 files and directories currently installed.)\n",
            "Preparing to unpack google-chrome-stable_current_amd64.deb ...\n",
            "Unpacking google-chrome-stable (120.0.6099.199-1) ...\n",
            "\u001b[1mdpkg:\u001b[0m dependency problems prevent configuration of google-chrome-stable:\n",
            " google-chrome-stable depends on libvulkan1; however:\n",
            "  Package libvulkan1 is not installed.\n",
            "\n",
            "\u001b[1mdpkg:\u001b[0m error processing package google-chrome-stable (--install):\n",
            " dependency problems - leaving unconfigured\n",
            "Processing triggers for man-db (2.10.2-1) ...\n",
            "Errors were encountered while processing:\n",
            " google-chrome-stable\n",
            "--2024-01-06 09:49:21--  https://chromedriver.storage.googleapis.com/114.0.5735.90/chromedriver_linux64.zip\n",
            "Resolving chromedriver.storage.googleapis.com (chromedriver.storage.googleapis.com)... 142.250.159.207, 142.251.120.207, 142.251.161.207, ...\n",
            "Connecting to chromedriver.storage.googleapis.com (chromedriver.storage.googleapis.com)|142.250.159.207|:443... connected.\n",
            "HTTP request sent, awaiting response... 200 OK\n",
            "Length: 7407250 (7.1M) [application/zip]\n",
            "Saving to: ‘/tmp/chromedriver_linux64.zip’\n",
            "\n",
            "chromedriver_linux6 100%[===================>]   7.06M  --.-KB/s    in 0.07s   \n",
            "\n",
            "2024-01-06 09:49:21 (97.6 MB/s) - ‘/tmp/chromedriver_linux64.zip’ saved [7407250/7407250]\n",
            "\n",
            "Archive:  /tmp/chromedriver_linux64.zip\n",
            "  inflating: /tmp/chromedriver       \n",
            "  inflating: /tmp/LICENSE.chromedriver  \n"
          ]
        },
        {
          "output_type": "execute_result",
          "data": {
            "text/plain": []
          },
          "metadata": {},
          "execution_count": 1
        }
      ],
      "source": [
        "%%shell\n",
        "\n",
        "# 更新を実行\n",
        "sudo apt -y update\n",
        "\n",
        "# ダウンロードのために必要なパッケージをインストール\n",
        "sudo apt install -y wget curl unzip\n",
        "# 以下はChromeの依存パッケージ\n",
        "wget http://archive.ubuntu.com/ubuntu/pool/main/libu/libu2f-host/libu2f-udev_1.1.4-1_all.deb\n",
        "dpkg -i libu2f-udev_1.1.4-1_all.deb\n",
        "\n",
        "# Chromeのインストール\n",
        "wget https://dl.google.com/linux/direct/google-chrome-stable_current_amd64.deb\n",
        "dpkg -i google-chrome-stable_current_amd64.deb\n",
        "\n",
        "# Chrome Driverのインストール\n",
        "CHROME_DRIVER_VERSION=`curl -sS chromedriver.storage.googleapis.com/LATEST_RELEASE`\n",
        "wget -N https://chromedriver.storage.googleapis.com/$CHROME_DRIVER_VERSION/chromedriver_linux64.zip -P /tmp/\n",
        "unzip -o /tmp/chromedriver_linux64.zip -d /tmp/\n",
        "chmod +x /tmp/chromedriver\n",
        "mv /tmp/chromedriver /usr/local/bin/chromedriver"
      ],
      "id": "c0644c05"
    },
    {
      "cell_type": "markdown",
      "metadata": {
        "id": "1VPY9_uWSFZj"
      },
      "source": [
        "### Install selenium"
      ],
      "id": "1VPY9_uWSFZj"
    },
    {
      "cell_type": "code",
      "execution_count": null,
      "metadata": {
        "colab": {
          "base_uri": "https://localhost:8080/"
        },
        "id": "cFLEGaVxi4_4",
        "outputId": "7b08822a-c48f-4818-9ec5-dc3f56d3b549"
      },
      "outputs": [
        {
          "output_type": "stream",
          "name": "stdout",
          "text": [
            "Collecting selenium\n",
            "  Downloading selenium-4.16.0-py3-none-any.whl (10.0 MB)\n",
            "\u001b[2K     \u001b[90m━━━━━━━━━━━━━━━━━━━━━━━━━━━━━━━━━━━━━━━━\u001b[0m \u001b[32m10.0/10.0 MB\u001b[0m \u001b[31m29.4 MB/s\u001b[0m eta \u001b[36m0:00:00\u001b[0m\n",
            "\u001b[?25hRequirement already satisfied: urllib3[socks]<3,>=1.26 in /usr/local/lib/python3.10/dist-packages (from selenium) (2.0.7)\n",
            "Collecting trio~=0.17 (from selenium)\n",
            "  Downloading trio-0.23.2-py3-none-any.whl (461 kB)\n",
            "\u001b[2K     \u001b[90m━━━━━━━━━━━━━━━━━━━━━━━━━━━━━━━━━━━━━━━━\u001b[0m \u001b[32m461.6/461.6 kB\u001b[0m \u001b[31m40.1 MB/s\u001b[0m eta \u001b[36m0:00:00\u001b[0m\n",
            "\u001b[?25hCollecting trio-websocket~=0.9 (from selenium)\n",
            "  Downloading trio_websocket-0.11.1-py3-none-any.whl (17 kB)\n",
            "Requirement already satisfied: certifi>=2021.10.8 in /usr/local/lib/python3.10/dist-packages (from selenium) (2023.11.17)\n",
            "Requirement already satisfied: attrs>=20.1.0 in /usr/local/lib/python3.10/dist-packages (from trio~=0.17->selenium) (23.1.0)\n",
            "Requirement already satisfied: sortedcontainers in /usr/local/lib/python3.10/dist-packages (from trio~=0.17->selenium) (2.4.0)\n",
            "Requirement already satisfied: idna in /usr/local/lib/python3.10/dist-packages (from trio~=0.17->selenium) (3.6)\n",
            "Collecting outcome (from trio~=0.17->selenium)\n",
            "  Downloading outcome-1.3.0.post0-py2.py3-none-any.whl (10 kB)\n",
            "Requirement already satisfied: sniffio>=1.3.0 in /usr/local/lib/python3.10/dist-packages (from trio~=0.17->selenium) (1.3.0)\n",
            "Requirement already satisfied: exceptiongroup in /usr/local/lib/python3.10/dist-packages (from trio~=0.17->selenium) (1.2.0)\n",
            "Collecting wsproto>=0.14 (from trio-websocket~=0.9->selenium)\n",
            "  Downloading wsproto-1.2.0-py3-none-any.whl (24 kB)\n",
            "Requirement already satisfied: pysocks!=1.5.7,<2.0,>=1.5.6 in /usr/local/lib/python3.10/dist-packages (from urllib3[socks]<3,>=1.26->selenium) (1.7.1)\n",
            "Collecting h11<1,>=0.9.0 (from wsproto>=0.14->trio-websocket~=0.9->selenium)\n",
            "  Downloading h11-0.14.0-py3-none-any.whl (58 kB)\n",
            "\u001b[2K     \u001b[90m━━━━━━━━━━━━━━━━━━━━━━━━━━━━━━━━━━━━━━━━\u001b[0m \u001b[32m58.3/58.3 kB\u001b[0m \u001b[31m7.3 MB/s\u001b[0m eta \u001b[36m0:00:00\u001b[0m\n",
            "\u001b[?25hInstalling collected packages: outcome, h11, wsproto, trio, trio-websocket, selenium\n",
            "Successfully installed h11-0.14.0 outcome-1.3.0.post0 selenium-4.16.0 trio-0.23.2 trio-websocket-0.11.1 wsproto-1.2.0\n",
            "Collecting webdriver-manager\n",
            "  Downloading webdriver_manager-4.0.1-py2.py3-none-any.whl (27 kB)\n",
            "Requirement already satisfied: requests in /usr/local/lib/python3.10/dist-packages (from webdriver-manager) (2.31.0)\n",
            "Collecting python-dotenv (from webdriver-manager)\n",
            "  Downloading python_dotenv-1.0.0-py3-none-any.whl (19 kB)\n",
            "Requirement already satisfied: packaging in /usr/local/lib/python3.10/dist-packages (from webdriver-manager) (23.2)\n",
            "Requirement already satisfied: charset-normalizer<4,>=2 in /usr/local/lib/python3.10/dist-packages (from requests->webdriver-manager) (3.3.2)\n",
            "Requirement already satisfied: idna<4,>=2.5 in /usr/local/lib/python3.10/dist-packages (from requests->webdriver-manager) (3.6)\n",
            "Requirement already satisfied: urllib3<3,>=1.21.1 in /usr/local/lib/python3.10/dist-packages (from requests->webdriver-manager) (2.0.7)\n",
            "Requirement already satisfied: certifi>=2017.4.17 in /usr/local/lib/python3.10/dist-packages (from requests->webdriver-manager) (2023.11.17)\n",
            "Installing collected packages: python-dotenv, webdriver-manager\n",
            "Successfully installed python-dotenv-1.0.0 webdriver-manager-4.0.1\n"
          ]
        }
      ],
      "source": [
        "!pip install selenium\n",
        "!pip install webdriver-manager"
      ],
      "id": "cFLEGaVxi4_4"
    },
    {
      "cell_type": "code",
      "execution_count": null,
      "metadata": {
        "id": "1K2CDGhWiYai"
      },
      "outputs": [],
      "source": [
        "from selenium import webdriver\n",
        "from selenium.webdriver.chrome.options import Options\n",
        "from selenium.webdriver.chrome.service import Service\n",
        "from webdriver_manager.chrome import ChromeDriverManager\n",
        "\n",
        "options = Options()\n",
        "options.add_argument(\"--headless\")\n",
        "options.add_argument('--disable-dev-shm-usage')\n",
        "options.add_argument(\"--no-sandbox\")\n",
        "\n",
        "driver = webdriver.Chrome(service=Service(ChromeDriverManager().install()), options=options)\n"
      ],
      "id": "1K2CDGhWiYai"
    },
    {
      "cell_type": "markdown",
      "metadata": {
        "id": "hWJavDmMSPjC"
      },
      "source": [
        "## Scraping the data and save to csv"
      ],
      "id": "hWJavDmMSPjC"
    },
    {
      "cell_type": "code",
      "execution_count": null,
      "metadata": {
        "colab": {
          "base_uri": "https://localhost:8080/"
        },
        "id": "b231c633",
        "scrolled": true,
        "outputId": "b37d02dd-0745-41f5-81d2-2a1464ab0f58"
      },
      "outputs": [
        {
          "output_type": "stream",
          "name": "stderr",
          "text": [
            "<ipython-input-4-d394dd9c3420>:22: FutureWarning: The frame.append method is deprecated and will be removed from pandas in a future version. Use pandas.concat instead.\n",
            "  df = df.append(df_year, ignore_index=True)\n",
            "<ipython-input-4-d394dd9c3420>:22: FutureWarning: The frame.append method is deprecated and will be removed from pandas in a future version. Use pandas.concat instead.\n",
            "  df = df.append(df_year, ignore_index=True)\n",
            "<ipython-input-4-d394dd9c3420>:22: FutureWarning: The frame.append method is deprecated and will be removed from pandas in a future version. Use pandas.concat instead.\n",
            "  df = df.append(df_year, ignore_index=True)\n",
            "<ipython-input-4-d394dd9c3420>:22: FutureWarning: The frame.append method is deprecated and will be removed from pandas in a future version. Use pandas.concat instead.\n",
            "  df = df.append(df_year, ignore_index=True)\n",
            "<ipython-input-4-d394dd9c3420>:22: FutureWarning: The frame.append method is deprecated and will be removed from pandas in a future version. Use pandas.concat instead.\n",
            "  df = df.append(df_year, ignore_index=True)\n",
            "<ipython-input-4-d394dd9c3420>:22: FutureWarning: The frame.append method is deprecated and will be removed from pandas in a future version. Use pandas.concat instead.\n",
            "  df = df.append(df_year, ignore_index=True)\n",
            "<ipython-input-4-d394dd9c3420>:22: FutureWarning: The frame.append method is deprecated and will be removed from pandas in a future version. Use pandas.concat instead.\n",
            "  df = df.append(df_year, ignore_index=True)\n",
            "<ipython-input-4-d394dd9c3420>:22: FutureWarning: The frame.append method is deprecated and will be removed from pandas in a future version. Use pandas.concat instead.\n",
            "  df = df.append(df_year, ignore_index=True)\n",
            "<ipython-input-4-d394dd9c3420>:22: FutureWarning: The frame.append method is deprecated and will be removed from pandas in a future version. Use pandas.concat instead.\n",
            "  df = df.append(df_year, ignore_index=True)\n",
            "<ipython-input-4-d394dd9c3420>:22: FutureWarning: The frame.append method is deprecated and will be removed from pandas in a future version. Use pandas.concat instead.\n",
            "  df = df.append(df_year, ignore_index=True)\n",
            "<ipython-input-4-d394dd9c3420>:22: FutureWarning: The frame.append method is deprecated and will be removed from pandas in a future version. Use pandas.concat instead.\n",
            "  df = df.append(df_year, ignore_index=True)\n",
            "<ipython-input-4-d394dd9c3420>:22: FutureWarning: The frame.append method is deprecated and will be removed from pandas in a future version. Use pandas.concat instead.\n",
            "  df = df.append(df_year, ignore_index=True)\n",
            "<ipython-input-4-d394dd9c3420>:22: FutureWarning: The frame.append method is deprecated and will be removed from pandas in a future version. Use pandas.concat instead.\n",
            "  df = df.append(df_year, ignore_index=True)\n",
            "<ipython-input-4-d394dd9c3420>:22: FutureWarning: The frame.append method is deprecated and will be removed from pandas in a future version. Use pandas.concat instead.\n",
            "  df = df.append(df_year, ignore_index=True)\n",
            "<ipython-input-4-d394dd9c3420>:22: FutureWarning: The frame.append method is deprecated and will be removed from pandas in a future version. Use pandas.concat instead.\n",
            "  df = df.append(df_year, ignore_index=True)\n",
            "<ipython-input-4-d394dd9c3420>:22: FutureWarning: The frame.append method is deprecated and will be removed from pandas in a future version. Use pandas.concat instead.\n",
            "  df = df.append(df_year, ignore_index=True)\n",
            "<ipython-input-4-d394dd9c3420>:22: FutureWarning: The frame.append method is deprecated and will be removed from pandas in a future version. Use pandas.concat instead.\n",
            "  df = df.append(df_year, ignore_index=True)\n",
            "<ipython-input-4-d394dd9c3420>:22: FutureWarning: The frame.append method is deprecated and will be removed from pandas in a future version. Use pandas.concat instead.\n",
            "  df = df.append(df_year, ignore_index=True)\n",
            "<ipython-input-4-d394dd9c3420>:22: FutureWarning: The frame.append method is deprecated and will be removed from pandas in a future version. Use pandas.concat instead.\n",
            "  df = df.append(df_year, ignore_index=True)\n",
            "<ipython-input-4-d394dd9c3420>:22: FutureWarning: The frame.append method is deprecated and will be removed from pandas in a future version. Use pandas.concat instead.\n",
            "  df = df.append(df_year, ignore_index=True)\n",
            "<ipython-input-4-d394dd9c3420>:22: FutureWarning: The frame.append method is deprecated and will be removed from pandas in a future version. Use pandas.concat instead.\n",
            "  df = df.append(df_year, ignore_index=True)\n"
          ]
        }
      ],
      "source": [
        "import pandas as pd\n",
        "from selenium.webdriver.common.by import By\n",
        "\n",
        "\n",
        "# Initialize the DataFrame\n",
        "df = pd.DataFrame(columns=[\"YEAR\", \"TIMES\", \"N1\", \"N2\", \"N3\", \"N4\", \"N5\", \"N6\", \"S1\"])\n",
        "\n",
        "# Iterate over the years\n",
        "for year in range(2003, 2024):  # 2024 is not included in the range\n",
        "    # Open the webpage\n",
        "    driver.get(f\"http://www.nfd.com.tw/house/year/{year}.htm\")\n",
        "\n",
        "    # Scrape the data\n",
        "    data = []\n",
        "    table = driver.find_element(By.XPATH, \"//table\")  # adjust the xpath to match the actual table\n",
        "    for row in table.find_elements(By.XPATH, \".//tr\"):\n",
        "        cols = row.find_elements(By.XPATH, \".//td\")\n",
        "        data.append([col.text for col in cols])\n",
        "\n",
        "    # Convert data to DataFrame and append to the main DataFrame\n",
        "    df_year = pd.DataFrame(data, columns=[\"YEAR\", \"TIMES\", \"N1\", \"N2\", \"N3\", \"N4\", \"N5\", \"N6\", \"S1\"])\n",
        "    df = df.append(df_year, ignore_index=True)\n",
        "\n",
        "driver.quit()\n",
        "\n",
        "# Save the DataFrame as CSV\n",
        "df.to_csv(\"data.csv\", index=False)\n"
      ],
      "id": "b231c633"
    },
    {
      "cell_type": "markdown",
      "metadata": {
        "id": "ForToDLbk3uo"
      },
      "source": [
        "## Import Module"
      ],
      "id": "ForToDLbk3uo"
    },
    {
      "cell_type": "code",
      "execution_count": null,
      "metadata": {
        "colab": {
          "base_uri": "https://localhost:8080/"
        },
        "id": "qaZTY7EYmSYL",
        "outputId": "65e41c08-1f94-49f6-f44b-1646c4d54118"
      },
      "outputs": [
        {
          "output_type": "stream",
          "name": "stdout",
          "text": [
            "Tensorflow version 2.12.0\n"
          ]
        }
      ],
      "source": [
        "import gc\n",
        "import os\n",
        "import math\n",
        "import numpy as np\n",
        "import pandas as pd\n",
        "from numpy import sqrt, sin, cos, pi, zeros\n",
        "from numpy.random import randn, rand, uniform, normal\n",
        "from scipy.linalg import hadamard\n",
        "import tensorflow as tf\n",
        "from tensorflow.keras.utils import plot_model\n",
        "from tensorflow.keras.models import Model, Sequential\n",
        "from tensorflow.keras.layers import Input, Dense, Activation, LSTM, Dropout, RepeatVector, TimeDistributed, Embedding, Reshape, Dot, Concatenate\n",
        "from tensorflow.keras.layers import GRU, SpatialDropout1D, Conv1D, GlobalMaxPooling1D,Multiply, Lambda, Softmax, Flatten, BatchNormalization, Bidirectional, dot, concatenate\n",
        "from tensorflow.keras.layers import AdditiveAttention, Attention\n",
        "from tensorflow.keras.activations import relu\n",
        "from tensorflow.keras.optimizers import Adam\n",
        "from tensorflow.keras import callbacks\n",
        "from tensorflow.keras import backend\n",
        "from tensorflow.keras.utils import plot_model\n",
        "from tensorflow.keras.metrics import MeanSquaredError\n",
        "from sklearn.preprocessing import StandardScaler\n",
        "import matplotlib.pyplot as plt\n",
        "from tqdm.notebook import tqdm\n",
        "\n",
        "print(\"Tensorflow version \" + tf.__version__)\n",
        "AUTO = tf.data.experimental.AUTOTUNE"
      ],
      "id": "qaZTY7EYmSYL"
    },
    {
      "cell_type": "markdown",
      "source": [
        "## Load Mark6 Lottery history\n"
      ],
      "metadata": {
        "id": "8Bgq8as_589X"
      },
      "id": "8Bgq8as_589X"
    },
    {
      "cell_type": "code",
      "execution_count": null,
      "metadata": {
        "colab": {
          "base_uri": "https://localhost:8080/",
          "height": 206
        },
        "id": "2a59b2fa",
        "outputId": "03c00f09-f96b-4152-c9c2-928a3a8c2c8d"
      },
      "outputs": [
        {
          "output_type": "execute_result",
          "data": {
            "text/plain": [
              "      YEAR TIMES  N1  N2  N3  N4  N5  N6  S1\n",
              "2942  2023   142  04  09  13  33  35  46  06\n",
              "2943  2023   143  01  10  12  33  46  49  32\n",
              "2944  2023   144  02  08  16  19  37  49  20\n",
              "2945  2023   145  11  18  27  29  34  45  28\n",
              "2946  2023   146  05  08  19  25  41  48  24"
            ],
            "text/html": [
              "\n",
              "  <div id=\"df-ad24ade0-7872-42a5-8f8c-31e5215f1228\" class=\"colab-df-container\">\n",
              "    <div>\n",
              "<style scoped>\n",
              "    .dataframe tbody tr th:only-of-type {\n",
              "        vertical-align: middle;\n",
              "    }\n",
              "\n",
              "    .dataframe tbody tr th {\n",
              "        vertical-align: top;\n",
              "    }\n",
              "\n",
              "    .dataframe thead th {\n",
              "        text-align: right;\n",
              "    }\n",
              "</style>\n",
              "<table border=\"1\" class=\"dataframe\">\n",
              "  <thead>\n",
              "    <tr style=\"text-align: right;\">\n",
              "      <th></th>\n",
              "      <th>YEAR</th>\n",
              "      <th>TIMES</th>\n",
              "      <th>N1</th>\n",
              "      <th>N2</th>\n",
              "      <th>N3</th>\n",
              "      <th>N4</th>\n",
              "      <th>N5</th>\n",
              "      <th>N6</th>\n",
              "      <th>S1</th>\n",
              "    </tr>\n",
              "  </thead>\n",
              "  <tbody>\n",
              "    <tr>\n",
              "      <th>2942</th>\n",
              "      <td>2023</td>\n",
              "      <td>142</td>\n",
              "      <td>04</td>\n",
              "      <td>09</td>\n",
              "      <td>13</td>\n",
              "      <td>33</td>\n",
              "      <td>35</td>\n",
              "      <td>46</td>\n",
              "      <td>06</td>\n",
              "    </tr>\n",
              "    <tr>\n",
              "      <th>2943</th>\n",
              "      <td>2023</td>\n",
              "      <td>143</td>\n",
              "      <td>01</td>\n",
              "      <td>10</td>\n",
              "      <td>12</td>\n",
              "      <td>33</td>\n",
              "      <td>46</td>\n",
              "      <td>49</td>\n",
              "      <td>32</td>\n",
              "    </tr>\n",
              "    <tr>\n",
              "      <th>2944</th>\n",
              "      <td>2023</td>\n",
              "      <td>144</td>\n",
              "      <td>02</td>\n",
              "      <td>08</td>\n",
              "      <td>16</td>\n",
              "      <td>19</td>\n",
              "      <td>37</td>\n",
              "      <td>49</td>\n",
              "      <td>20</td>\n",
              "    </tr>\n",
              "    <tr>\n",
              "      <th>2945</th>\n",
              "      <td>2023</td>\n",
              "      <td>145</td>\n",
              "      <td>11</td>\n",
              "      <td>18</td>\n",
              "      <td>27</td>\n",
              "      <td>29</td>\n",
              "      <td>34</td>\n",
              "      <td>45</td>\n",
              "      <td>28</td>\n",
              "    </tr>\n",
              "    <tr>\n",
              "      <th>2946</th>\n",
              "      <td>2023</td>\n",
              "      <td>146</td>\n",
              "      <td>05</td>\n",
              "      <td>08</td>\n",
              "      <td>19</td>\n",
              "      <td>25</td>\n",
              "      <td>41</td>\n",
              "      <td>48</td>\n",
              "      <td>24</td>\n",
              "    </tr>\n",
              "  </tbody>\n",
              "</table>\n",
              "</div>\n",
              "    <div class=\"colab-df-buttons\">\n",
              "\n",
              "  <div class=\"colab-df-container\">\n",
              "    <button class=\"colab-df-convert\" onclick=\"convertToInteractive('df-ad24ade0-7872-42a5-8f8c-31e5215f1228')\"\n",
              "            title=\"Convert this dataframe to an interactive table.\"\n",
              "            style=\"display:none;\">\n",
              "\n",
              "  <svg xmlns=\"http://www.w3.org/2000/svg\" height=\"24px\" viewBox=\"0 -960 960 960\">\n",
              "    <path d=\"M120-120v-720h720v720H120Zm60-500h600v-160H180v160Zm220 220h160v-160H400v160Zm0 220h160v-160H400v160ZM180-400h160v-160H180v160Zm440 0h160v-160H620v160ZM180-180h160v-160H180v160Zm440 0h160v-160H620v160Z\"/>\n",
              "  </svg>\n",
              "    </button>\n",
              "\n",
              "  <style>\n",
              "    .colab-df-container {\n",
              "      display:flex;\n",
              "      gap: 12px;\n",
              "    }\n",
              "\n",
              "    .colab-df-convert {\n",
              "      background-color: #E8F0FE;\n",
              "      border: none;\n",
              "      border-radius: 50%;\n",
              "      cursor: pointer;\n",
              "      display: none;\n",
              "      fill: #1967D2;\n",
              "      height: 32px;\n",
              "      padding: 0 0 0 0;\n",
              "      width: 32px;\n",
              "    }\n",
              "\n",
              "    .colab-df-convert:hover {\n",
              "      background-color: #E2EBFA;\n",
              "      box-shadow: 0px 1px 2px rgba(60, 64, 67, 0.3), 0px 1px 3px 1px rgba(60, 64, 67, 0.15);\n",
              "      fill: #174EA6;\n",
              "    }\n",
              "\n",
              "    .colab-df-buttons div {\n",
              "      margin-bottom: 4px;\n",
              "    }\n",
              "\n",
              "    [theme=dark] .colab-df-convert {\n",
              "      background-color: #3B4455;\n",
              "      fill: #D2E3FC;\n",
              "    }\n",
              "\n",
              "    [theme=dark] .colab-df-convert:hover {\n",
              "      background-color: #434B5C;\n",
              "      box-shadow: 0px 1px 3px 1px rgba(0, 0, 0, 0.15);\n",
              "      filter: drop-shadow(0px 1px 2px rgba(0, 0, 0, 0.3));\n",
              "      fill: #FFFFFF;\n",
              "    }\n",
              "  </style>\n",
              "\n",
              "    <script>\n",
              "      const buttonEl =\n",
              "        document.querySelector('#df-ad24ade0-7872-42a5-8f8c-31e5215f1228 button.colab-df-convert');\n",
              "      buttonEl.style.display =\n",
              "        google.colab.kernel.accessAllowed ? 'block' : 'none';\n",
              "\n",
              "      async function convertToInteractive(key) {\n",
              "        const element = document.querySelector('#df-ad24ade0-7872-42a5-8f8c-31e5215f1228');\n",
              "        const dataTable =\n",
              "          await google.colab.kernel.invokeFunction('convertToInteractive',\n",
              "                                                    [key], {});\n",
              "        if (!dataTable) return;\n",
              "\n",
              "        const docLinkHtml = 'Like what you see? Visit the ' +\n",
              "          '<a target=\"_blank\" href=https://colab.research.google.com/notebooks/data_table.ipynb>data table notebook</a>'\n",
              "          + ' to learn more about interactive tables.';\n",
              "        element.innerHTML = '';\n",
              "        dataTable['output_type'] = 'display_data';\n",
              "        await google.colab.output.renderOutput(dataTable, element);\n",
              "        const docLink = document.createElement('div');\n",
              "        docLink.innerHTML = docLinkHtml;\n",
              "        element.appendChild(docLink);\n",
              "      }\n",
              "    </script>\n",
              "  </div>\n",
              "\n",
              "\n",
              "<div id=\"df-3d025e8c-2d8e-4bfe-90b2-90e7a8e06d3d\">\n",
              "  <button class=\"colab-df-quickchart\" onclick=\"quickchart('df-3d025e8c-2d8e-4bfe-90b2-90e7a8e06d3d')\"\n",
              "            title=\"Suggest charts\"\n",
              "            style=\"display:none;\">\n",
              "\n",
              "<svg xmlns=\"http://www.w3.org/2000/svg\" height=\"24px\"viewBox=\"0 0 24 24\"\n",
              "     width=\"24px\">\n",
              "    <g>\n",
              "        <path d=\"M19 3H5c-1.1 0-2 .9-2 2v14c0 1.1.9 2 2 2h14c1.1 0 2-.9 2-2V5c0-1.1-.9-2-2-2zM9 17H7v-7h2v7zm4 0h-2V7h2v10zm4 0h-2v-4h2v4z\"/>\n",
              "    </g>\n",
              "</svg>\n",
              "  </button>\n",
              "\n",
              "<style>\n",
              "  .colab-df-quickchart {\n",
              "      --bg-color: #E8F0FE;\n",
              "      --fill-color: #1967D2;\n",
              "      --hover-bg-color: #E2EBFA;\n",
              "      --hover-fill-color: #174EA6;\n",
              "      --disabled-fill-color: #AAA;\n",
              "      --disabled-bg-color: #DDD;\n",
              "  }\n",
              "\n",
              "  [theme=dark] .colab-df-quickchart {\n",
              "      --bg-color: #3B4455;\n",
              "      --fill-color: #D2E3FC;\n",
              "      --hover-bg-color: #434B5C;\n",
              "      --hover-fill-color: #FFFFFF;\n",
              "      --disabled-bg-color: #3B4455;\n",
              "      --disabled-fill-color: #666;\n",
              "  }\n",
              "\n",
              "  .colab-df-quickchart {\n",
              "    background-color: var(--bg-color);\n",
              "    border: none;\n",
              "    border-radius: 50%;\n",
              "    cursor: pointer;\n",
              "    display: none;\n",
              "    fill: var(--fill-color);\n",
              "    height: 32px;\n",
              "    padding: 0;\n",
              "    width: 32px;\n",
              "  }\n",
              "\n",
              "  .colab-df-quickchart:hover {\n",
              "    background-color: var(--hover-bg-color);\n",
              "    box-shadow: 0 1px 2px rgba(60, 64, 67, 0.3), 0 1px 3px 1px rgba(60, 64, 67, 0.15);\n",
              "    fill: var(--button-hover-fill-color);\n",
              "  }\n",
              "\n",
              "  .colab-df-quickchart-complete:disabled,\n",
              "  .colab-df-quickchart-complete:disabled:hover {\n",
              "    background-color: var(--disabled-bg-color);\n",
              "    fill: var(--disabled-fill-color);\n",
              "    box-shadow: none;\n",
              "  }\n",
              "\n",
              "  .colab-df-spinner {\n",
              "    border: 2px solid var(--fill-color);\n",
              "    border-color: transparent;\n",
              "    border-bottom-color: var(--fill-color);\n",
              "    animation:\n",
              "      spin 1s steps(1) infinite;\n",
              "  }\n",
              "\n",
              "  @keyframes spin {\n",
              "    0% {\n",
              "      border-color: transparent;\n",
              "      border-bottom-color: var(--fill-color);\n",
              "      border-left-color: var(--fill-color);\n",
              "    }\n",
              "    20% {\n",
              "      border-color: transparent;\n",
              "      border-left-color: var(--fill-color);\n",
              "      border-top-color: var(--fill-color);\n",
              "    }\n",
              "    30% {\n",
              "      border-color: transparent;\n",
              "      border-left-color: var(--fill-color);\n",
              "      border-top-color: var(--fill-color);\n",
              "      border-right-color: var(--fill-color);\n",
              "    }\n",
              "    40% {\n",
              "      border-color: transparent;\n",
              "      border-right-color: var(--fill-color);\n",
              "      border-top-color: var(--fill-color);\n",
              "    }\n",
              "    60% {\n",
              "      border-color: transparent;\n",
              "      border-right-color: var(--fill-color);\n",
              "    }\n",
              "    80% {\n",
              "      border-color: transparent;\n",
              "      border-right-color: var(--fill-color);\n",
              "      border-bottom-color: var(--fill-color);\n",
              "    }\n",
              "    90% {\n",
              "      border-color: transparent;\n",
              "      border-bottom-color: var(--fill-color);\n",
              "    }\n",
              "  }\n",
              "</style>\n",
              "\n",
              "  <script>\n",
              "    async function quickchart(key) {\n",
              "      const quickchartButtonEl =\n",
              "        document.querySelector('#' + key + ' button');\n",
              "      quickchartButtonEl.disabled = true;  // To prevent multiple clicks.\n",
              "      quickchartButtonEl.classList.add('colab-df-spinner');\n",
              "      try {\n",
              "        const charts = await google.colab.kernel.invokeFunction(\n",
              "            'suggestCharts', [key], {});\n",
              "      } catch (error) {\n",
              "        console.error('Error during call to suggestCharts:', error);\n",
              "      }\n",
              "      quickchartButtonEl.classList.remove('colab-df-spinner');\n",
              "      quickchartButtonEl.classList.add('colab-df-quickchart-complete');\n",
              "    }\n",
              "    (() => {\n",
              "      let quickchartButtonEl =\n",
              "        document.querySelector('#df-3d025e8c-2d8e-4bfe-90b2-90e7a8e06d3d button');\n",
              "      quickchartButtonEl.style.display =\n",
              "        google.colab.kernel.accessAllowed ? 'block' : 'none';\n",
              "    })();\n",
              "  </script>\n",
              "</div>\n",
              "    </div>\n",
              "  </div>\n"
            ]
          },
          "metadata": {},
          "execution_count": 6
        }
      ],
      "source": [
        "df = pd.read_csv('data.csv')\n",
        "\n",
        "# date cleaning\n",
        "df = df[df['YEAR'] != \"YEAR\"]\n",
        "df = df[df['YEAR'] != \"新冠疫情.七個月未開  2020 / 02 / 01~2020 / 09 / 24\"]\n",
        "df.to_csv('data.csv', index=False)\n",
        "df.tail()"
      ],
      "id": "2a59b2fa"
    },
    {
      "cell_type": "code",
      "execution_count": null,
      "metadata": {
        "id": "GU9DxxoN_pzy"
      },
      "outputs": [],
      "source": [
        "df = df.drop(columns=[\"YEAR\", \"TIMES\"])"
      ],
      "id": "GU9DxxoN_pzy"
    },
    {
      "cell_type": "code",
      "execution_count": null,
      "metadata": {
        "id": "v77SvGDUoUC1"
      },
      "outputs": [],
      "source": [
        "df = df.astype(int)"
      ],
      "id": "v77SvGDUoUC1"
    },
    {
      "cell_type": "markdown",
      "source": [
        "## Split the times series data"
      ],
      "metadata": {
        "id": "XOuPs-twfa9T"
      },
      "id": "XOuPs-twfa9T"
    },
    {
      "cell_type": "code",
      "execution_count": null,
      "metadata": {
        "id": "Bc5_81ZGjEhC"
      },
      "outputs": [],
      "source": [
        "data = df.values - 1\n",
        "train = data[:-50]\n",
        "test = data[-50:]\n",
        "\n",
        "w = 15\n",
        "X_train = []\n",
        "y_train = []\n",
        "for i in range(w, len(train)):\n",
        "    X_train.append(train[i - w: i, :])\n",
        "    y_train.append(train[i])\n",
        "X_train, y_train = np.array(X_train), np.array(y_train)\n",
        "\n",
        "inputs = data[data.shape[0] - test.shape[0] - w:]\n",
        "X_test = []\n",
        "for i in range(w, inputs.shape[0]):\n",
        "    X_test.append(inputs[i - w: i, :])\n",
        "X_test = np.array(X_test)\n",
        "y_test = test"
      ],
      "id": "Bc5_81ZGjEhC"
    },
    {
      "cell_type": "code",
      "execution_count": null,
      "metadata": {
        "colab": {
          "base_uri": "https://localhost:8080/"
        },
        "id": "kiX8MTGFk5UZ",
        "outputId": "6c789b63-30d8-486c-8d05-7a54e48f834a"
      },
      "outputs": [
        {
          "output_type": "stream",
          "name": "stdout",
          "text": [
            "(2925, 7)\n",
            "(2860, 15, 7)\n",
            "(2860, 7)\n",
            "(50, 15, 7)\n",
            "(50, 7)\n"
          ]
        }
      ],
      "source": [
        "print(data.shape)\n",
        "print(X_train.shape)\n",
        "print(y_train.shape)\n",
        "print(X_test.shape)\n",
        "print(y_test.shape)"
      ],
      "id": "kiX8MTGFk5UZ"
    },
    {
      "cell_type": "markdown",
      "source": [
        "## Modeling setup"
      ],
      "metadata": {
        "id": "vOUgWw6afEn3"
      },
      "id": "vOUgWw6afEn3"
    },
    {
      "cell_type": "code",
      "execution_count": null,
      "metadata": {
        "id": "ZOg930lRlqUG"
      },
      "outputs": [],
      "source": [
        "embed_dim = (59 // 2) + 1\n",
        "dropout_rate = 0.5\n",
        "spatial_dropout_rate = 0.5\n",
        "steps_before = w\n",
        "steps_after = 7\n",
        "feature_count = embed_dim * 7\n",
        "hidden_neurons = [64, 32]\n",
        "bidirectional = True\n",
        "attention_style = 'Bahdanau'"
      ],
      "id": "ZOg930lRlqUG"
    },
    {
      "cell_type": "code",
      "execution_count": null,
      "metadata": {
        "id": "hea3g-V3lqMA",
        "colab": {
          "base_uri": "https://localhost:8080/"
        },
        "outputId": "229a8ca7-96a5-4149-b8a3-ace151f1f227"
      },
      "outputs": [
        {
          "output_type": "stream",
          "name": "stderr",
          "text": [
            "WARNING:tensorflow:There are non-GPU devices in `tf.distribute.Strategy`, not using nccl allreduce.\n"
          ]
        }
      ],
      "source": [
        "import tensorflow as tf\n",
        "from tensorflow.keras import regularizers\n",
        "\n",
        "# Create an instance of MirroredStrategy.\n",
        "strategy = tf.distribute.MirroredStrategy()\n",
        "\n",
        "with strategy.scope():\n",
        "\n",
        "    inp0 = Input(shape = (w, X_train.shape[2]))\n",
        "\n",
        "    inp1 = Lambda(lambda x: x[:, :, 0])(inp0)\n",
        "    inp1 = Embedding(49, embed_dim)(inp1)\n",
        "    inp1 = SpatialDropout1D(spatial_dropout_rate)(inp1)\n",
        "\n",
        "    inp2 = Lambda(lambda x: x[:, :, 1])(inp0)\n",
        "    inp2 = Embedding(49, embed_dim)(inp2)\n",
        "    inp2 = SpatialDropout1D(spatial_dropout_rate)(inp2)\n",
        "\n",
        "    inp3 = Lambda(lambda x: x[:, :, 2])(inp0)\n",
        "    inp3 = Embedding(49, embed_dim)(inp3)\n",
        "    inp3 = SpatialDropout1D(spatial_dropout_rate)(inp3)\n",
        "\n",
        "    inp4 = Lambda(lambda x: x[:, :, 3])(inp0)\n",
        "    inp4 = Embedding(49, embed_dim)(inp4)\n",
        "    inp4 = SpatialDropout1D(spatial_dropout_rate)(inp4)\n",
        "\n",
        "    inp5 = Lambda(lambda x: x[:, :, 4])(inp0)\n",
        "    inp5 = Embedding(49, embed_dim)(inp5)\n",
        "    inp5 = SpatialDropout1D(spatial_dropout_rate)(inp5)\n",
        "\n",
        "    inp6 = Lambda(lambda x: x[:, :, 5])(inp0)\n",
        "    inp6 = Embedding(49, embed_dim)(inp6)\n",
        "    inp6 = SpatialDropout1D(spatial_dropout_rate)(inp6)\n",
        "\n",
        "    inp7 = Lambda(lambda x: x[:, :, 6])(inp0)\n",
        "    inp7 = Embedding(49, embed_dim)(inp7)\n",
        "    inp7 = SpatialDropout1D(spatial_dropout_rate)(inp7)\n",
        "\n",
        "    inp = Concatenate()([inp1, inp2, inp3, inp4, inp5, inp6, inp7])\n",
        "\n",
        "    # Seq2Seq model with attention or bidirectional encoder\n",
        "\n",
        "    num_layers = len(hidden_neurons)\n",
        "\n",
        "    sh_list, h_list, c_list = [inp], [], []\n",
        "\n",
        "    if bidirectional:\n",
        "\n",
        "        for i in range(num_layers):\n",
        "\n",
        "            sh, fh, fc, bh, bc = Bidirectional(LSTM(hidden_neurons[i],\n",
        "                                                    dropout = dropout_rate,\n",
        "                                                    return_state = True,\n",
        "                                                    return_sequences = True,\n",
        "                                                    kernel_regularizer=tf.keras.regularizers.l2(1e-4),\n",
        "                                                    recurrent_regularizer=tf.keras.regularizers.l2(1e-4))\n",
        "\n",
        "                                                    )(sh_list[-1])\n",
        "\n",
        "            h = Concatenate()([fh, bh])\n",
        "            c = Concatenate()([fc, bc])\n",
        "\n",
        "            sh_list.append(sh)\n",
        "            h_list.append(h)\n",
        "            c_list.append(c)\n",
        "\n",
        "    else:\n",
        "\n",
        "        for i in range(num_layers):\n",
        "\n",
        "            sh, h, c = LSTM(hidden_neurons[i],\n",
        "                            dropout = dropout_rate,\n",
        "                            return_state = True,\n",
        "                            return_sequences = True,\n",
        "                            kernel_regularizer=tf.keras.regularizers.l2(1e-4),\n",
        "                            recurrent_regularizer=tf.keras.regularizers.l2(1e-4)\n",
        "                            )(sh_list[-1])\n",
        "\n",
        "            sh_list.append(sh)\n",
        "            h_list.append(h)\n",
        "            c_list.append(c)\n",
        "\n",
        "    decoder = RepeatVector(steps_after)(h_list[-1])\n",
        "\n",
        "    if bidirectional:\n",
        "\n",
        "        decoder_hidden_neurons = [hn * 2 for hn in hidden_neurons]\n",
        "\n",
        "    else:\n",
        "\n",
        "        decoder_hidden_neurons = hidden_neurons\n",
        "\n",
        "    for i in range(num_layers):\n",
        "\n",
        "        decoder = LSTM(decoder_hidden_neurons[i],\n",
        "                       dropout = dropout_rate,\n",
        "                       return_sequences = True)(decoder, initial_state = [h_list[i], c_list[i]])\n",
        "\n",
        "    if attention_style == 'Bahdanau':\n",
        "\n",
        "        context = AdditiveAttention(dropout = dropout_rate)([decoder, sh_list[-1]])\n",
        "\n",
        "        decoder = concatenate([context, decoder])\n",
        "\n",
        "    elif attention_style == 'Luong':\n",
        "\n",
        "        context = Attention(dropout = dropout_rate)([decoder, sh_list[-1]])\n",
        "\n",
        "        decoder = concatenate([context, decoder])\n",
        "\n",
        "    out = Dense(49, activation = 'softmax')(decoder)\n",
        "\n",
        "    model = Model(inputs = inp0, outputs = out)\n",
        "\n",
        "    sparse_top_k = tf.keras.metrics.SparseTopKCategoricalAccuracy(k = 5, name = 'sparse_top_k')\n",
        "\n",
        "    model.compile(optimizer='adam', loss='sparse_categorical_crossentropy', metrics=[sparse_top_k])"
      ],
      "id": "hea3g-V3lqMA"
    },
    {
      "cell_type": "code",
      "execution_count": null,
      "metadata": {
        "colab": {
          "base_uri": "https://localhost:8080/"
        },
        "id": "JvGl1jWImpGb",
        "outputId": "2df4771b-8b38-4191-8595-389ad670f81c"
      },
      "outputs": [
        {
          "output_type": "stream",
          "name": "stdout",
          "text": [
            "Model: \"model\"\n",
            "__________________________________________________________________________________________________\n",
            " Layer (type)                   Output Shape         Param #     Connected to                     \n",
            "==================================================================================================\n",
            " input_1 (InputLayer)           [(None, 15, 7)]      0           []                               \n",
            "                                                                                                  \n",
            " lambda (Lambda)                (None, 15)           0           ['input_1[0][0]']                \n",
            "                                                                                                  \n",
            " lambda_1 (Lambda)              (None, 15)           0           ['input_1[0][0]']                \n",
            "                                                                                                  \n",
            " lambda_2 (Lambda)              (None, 15)           0           ['input_1[0][0]']                \n",
            "                                                                                                  \n",
            " lambda_3 (Lambda)              (None, 15)           0           ['input_1[0][0]']                \n",
            "                                                                                                  \n",
            " lambda_4 (Lambda)              (None, 15)           0           ['input_1[0][0]']                \n",
            "                                                                                                  \n",
            " lambda_5 (Lambda)              (None, 15)           0           ['input_1[0][0]']                \n",
            "                                                                                                  \n",
            " lambda_6 (Lambda)              (None, 15)           0           ['input_1[0][0]']                \n",
            "                                                                                                  \n",
            " embedding (Embedding)          (None, 15, 30)       1470        ['lambda[0][0]']                 \n",
            "                                                                                                  \n",
            " embedding_1 (Embedding)        (None, 15, 30)       1470        ['lambda_1[0][0]']               \n",
            "                                                                                                  \n",
            " embedding_2 (Embedding)        (None, 15, 30)       1470        ['lambda_2[0][0]']               \n",
            "                                                                                                  \n",
            " embedding_3 (Embedding)        (None, 15, 30)       1470        ['lambda_3[0][0]']               \n",
            "                                                                                                  \n",
            " embedding_4 (Embedding)        (None, 15, 30)       1470        ['lambda_4[0][0]']               \n",
            "                                                                                                  \n",
            " embedding_5 (Embedding)        (None, 15, 30)       1470        ['lambda_5[0][0]']               \n",
            "                                                                                                  \n",
            " embedding_6 (Embedding)        (None, 15, 30)       1470        ['lambda_6[0][0]']               \n",
            "                                                                                                  \n",
            " spatial_dropout1d (SpatialDrop  (None, 15, 30)      0           ['embedding[0][0]']              \n",
            " out1D)                                                                                           \n",
            "                                                                                                  \n",
            " spatial_dropout1d_1 (SpatialDr  (None, 15, 30)      0           ['embedding_1[0][0]']            \n",
            " opout1D)                                                                                         \n",
            "                                                                                                  \n",
            " spatial_dropout1d_2 (SpatialDr  (None, 15, 30)      0           ['embedding_2[0][0]']            \n",
            " opout1D)                                                                                         \n",
            "                                                                                                  \n",
            " spatial_dropout1d_3 (SpatialDr  (None, 15, 30)      0           ['embedding_3[0][0]']            \n",
            " opout1D)                                                                                         \n",
            "                                                                                                  \n",
            " spatial_dropout1d_4 (SpatialDr  (None, 15, 30)      0           ['embedding_4[0][0]']            \n",
            " opout1D)                                                                                         \n",
            "                                                                                                  \n",
            " spatial_dropout1d_5 (SpatialDr  (None, 15, 30)      0           ['embedding_5[0][0]']            \n",
            " opout1D)                                                                                         \n",
            "                                                                                                  \n",
            " spatial_dropout1d_6 (SpatialDr  (None, 15, 30)      0           ['embedding_6[0][0]']            \n",
            " opout1D)                                                                                         \n",
            "                                                                                                  \n",
            " concatenate (Concatenate)      (None, 15, 210)      0           ['spatial_dropout1d[0][0]',      \n",
            "                                                                  'spatial_dropout1d_1[0][0]',    \n",
            "                                                                  'spatial_dropout1d_2[0][0]',    \n",
            "                                                                  'spatial_dropout1d_3[0][0]',    \n",
            "                                                                  'spatial_dropout1d_4[0][0]',    \n",
            "                                                                  'spatial_dropout1d_5[0][0]',    \n",
            "                                                                  'spatial_dropout1d_6[0][0]']    \n",
            "                                                                                                  \n",
            " bidirectional (Bidirectional)  [(None, 15, 128),    140800      ['concatenate[0][0]']            \n",
            "                                 (None, 64),                                                      \n",
            "                                 (None, 64),                                                      \n",
            "                                 (None, 64),                                                      \n",
            "                                 (None, 64)]                                                      \n",
            "                                                                                                  \n",
            " bidirectional_1 (Bidirectional  [(None, 15, 64),    41216       ['bidirectional[0][0]']          \n",
            " )                               (None, 32),                                                      \n",
            "                                 (None, 32),                                                      \n",
            "                                 (None, 32),                                                      \n",
            "                                 (None, 32)]                                                      \n",
            "                                                                                                  \n",
            " concatenate_3 (Concatenate)    (None, 64)           0           ['bidirectional_1[0][1]',        \n",
            "                                                                  'bidirectional_1[0][3]']        \n",
            "                                                                                                  \n",
            " repeat_vector (RepeatVector)   (None, 7, 64)        0           ['concatenate_3[0][0]']          \n",
            "                                                                                                  \n",
            " concatenate_1 (Concatenate)    (None, 128)          0           ['bidirectional[0][1]',          \n",
            "                                                                  'bidirectional[0][3]']          \n",
            "                                                                                                  \n",
            " concatenate_2 (Concatenate)    (None, 128)          0           ['bidirectional[0][2]',          \n",
            "                                                                  'bidirectional[0][4]']          \n",
            "                                                                                                  \n",
            " lstm_2 (LSTM)                  (None, 7, 128)       98816       ['repeat_vector[0][0]',          \n",
            "                                                                  'concatenate_1[0][0]',          \n",
            "                                                                  'concatenate_2[0][0]']          \n",
            "                                                                                                  \n",
            " concatenate_4 (Concatenate)    (None, 64)           0           ['bidirectional_1[0][2]',        \n",
            "                                                                  'bidirectional_1[0][4]']        \n",
            "                                                                                                  \n",
            " lstm_3 (LSTM)                  (None, 7, 64)        49408       ['lstm_2[0][0]',                 \n",
            "                                                                  'concatenate_3[0][0]',          \n",
            "                                                                  'concatenate_4[0][0]']          \n",
            "                                                                                                  \n",
            " additive_attention (AdditiveAt  (None, 7, 64)       64          ['lstm_3[0][0]',                 \n",
            " tention)                                                         'bidirectional_1[0][0]']        \n",
            "                                                                                                  \n",
            " concatenate_5 (Concatenate)    (None, 7, 128)       0           ['additive_attention[0][0]',     \n",
            "                                                                  'lstm_3[0][0]']                 \n",
            "                                                                                                  \n",
            " dense (Dense)                  (None, 7, 49)        6321        ['concatenate_5[0][0]']          \n",
            "                                                                                                  \n",
            "==================================================================================================\n",
            "Total params: 346,915\n",
            "Trainable params: 346,915\n",
            "Non-trainable params: 0\n",
            "__________________________________________________________________________________________________\n"
          ]
        }
      ],
      "source": [
        "model.summary()"
      ],
      "id": "JvGl1jWImpGb"
    },
    {
      "cell_type": "code",
      "execution_count": null,
      "metadata": {
        "id": "MZyTgfTlm3e5"
      },
      "outputs": [],
      "source": [
        "class CosineAnnealingScheduler(callbacks.Callback):\n",
        "    \"\"\"Cosine annealing scheduler.\n",
        "    \"\"\"\n",
        "\n",
        "    def __init__(self, T_max, eta_max, eta_min = 0, verbose = 0):\n",
        "        super(CosineAnnealingScheduler, self).__init__()\n",
        "        self.T_max = T_max\n",
        "        self.eta_max = eta_max\n",
        "        self.eta_min = eta_min\n",
        "        self.verbose = verbose\n",
        "\n",
        "    def on_epoch_begin(self, epoch, logs = None):\n",
        "        if not hasattr(self.model.optimizer, 'lr'):\n",
        "            raise ValueError('Optimizer must have a \"lr\" attribute.')\n",
        "        lr = self.eta_min + (self.eta_max - self.eta_min) * (1 + math.cos(math.pi * epoch / self.T_max)) / 2\n",
        "        backend.set_value(self.model.optimizer.lr, lr)\n",
        "        if self.verbose > 0:\n",
        "            print('\\nEpoch %05d: CosineAnnealingScheduler setting learning '\n",
        "                  'rate to %s.' % (epoch + 1, lr))\n",
        "\n",
        "    def on_epoch_end(self, epoch, logs = None):\n",
        "        logs = logs or {}\n",
        "        logs['lr'] = backend.get_value(self.model.optimizer.lr)"
      ],
      "id": "MZyTgfTlm3e5"
    },
    {
      "cell_type": "markdown",
      "source": [
        "## Model Fit"
      ],
      "metadata": {
        "id": "Lzc_fsRYfNXI"
      },
      "id": "Lzc_fsRYfNXI"
    },
    {
      "cell_type": "code",
      "execution_count": null,
      "metadata": {
        "id": "Xxw06Xdum88E"
      },
      "outputs": [],
      "source": [
        "EPOCHS = 1000\n",
        "BATCH_SIZE = 64\n",
        "LR_MAX = 1e-3\n",
        "LR_MIN = 1e-4\n",
        "\n",
        "cas = CosineAnnealingScheduler(EPOCHS, LR_MAX, LR_MIN)\n",
        "\n",
        "ckp = callbacks.ModelCheckpoint('best_model.hdf5', monitor = 'val_sparse_top_k', verbose = 0,\n",
        "                                save_best_only = True, save_weights_only = False, mode = 'max')\n",
        "\n",
        "history = model.fit(X_train, y_train,\n",
        "                    validation_data = (X_test, y_test),\n",
        "                    callbacks = [ckp, cas],\n",
        "                    epochs = EPOCHS,\n",
        "                    batch_size = BATCH_SIZE,\n",
        "                    verbose = 0)\n",
        "\n",
        "hist = pd.DataFrame(history.history)"
      ],
      "id": "Xxw06Xdum88E"
    },
    {
      "cell_type": "code",
      "execution_count": null,
      "metadata": {
        "id": "Nl7R5WI2t317",
        "colab": {
          "base_uri": "https://localhost:8080/"
        },
        "outputId": "abd6a71b-fd27-43bf-c094-bbb1d22c5e6e"
      },
      "outputs": [
        {
          "output_type": "stream",
          "name": "stdout",
          "text": [
            "2/2 [==============================] - 3s 26ms/step\n"
          ]
        }
      ],
      "source": [
        "model.load_weights('best_model.hdf5')\n",
        "pred = model.predict(X_test)\n",
        "pred = np.argmax(pred, axis = 2)"
      ],
      "id": "Nl7R5WI2t317"
    },
    {
      "cell_type": "code",
      "execution_count": null,
      "metadata": {
        "id": "EXJwHWj0W-8z",
        "colab": {
          "base_uri": "https://localhost:8080/"
        },
        "outputId": "99776865-610f-44b5-cc35-2d585665ff95"
      },
      "outputs": [
        {
          "output_type": "stream",
          "name": "stdout",
          "text": [
            "2/2 [==============================] - 0s 22ms/step - loss: 3.3114 - sparse_top_k: 0.3371\n"
          ]
        },
        {
          "output_type": "execute_result",
          "data": {
            "text/plain": [
              "[3.3114256858825684, 0.33714285492897034]"
            ]
          },
          "metadata": {},
          "execution_count": 17
        }
      ],
      "source": [
        "loss_and_metrics = model.evaluate(X_test, y_test)\n",
        "loss_and_metrics"
      ],
      "id": "EXJwHWj0W-8z"
    },
    {
      "cell_type": "code",
      "execution_count": null,
      "metadata": {
        "colab": {
          "base_uri": "https://localhost:8080/",
          "height": 391
        },
        "id": "uJldRVTut7oA",
        "outputId": "d19a89c6-8a38-4ef9-e0ad-c24dae308f8a"
      },
      "outputs": [
        {
          "output_type": "display_data",
          "data": {
            "text/plain": [
              "<Figure size 1200x400 with 2 Axes>"
            ],
            "image/png": "[encoded data removed]"
          },
          "metadata": {}
        }
      ],
      "source": [
        "import matplotlib.pyplot as plt\n",
        "\n",
        "# Plotting training loss and sparse top k\n",
        "plt.figure(figsize=(12, 4))\n",
        "\n",
        "plt.subplot(1, 2, 1)\n",
        "plt.plot(history.history['loss'], label='Training Loss')\n",
        "plt.plot(history.history['val_loss'], label='Validation Loss')\n",
        "plt.legend()\n",
        "plt.title('Loss Over Epochs')\n",
        "\n",
        "plt.subplot(1, 2, 2)\n",
        "plt.plot(history.history['sparse_top_k'], label='Training Sparse Top K')\n",
        "plt.plot(history.history['val_sparse_top_k'], label='Validation Sparse Top K')\n",
        "plt.legend()\n",
        "plt.title('Sparse Top K Over Epochs')\n",
        "\n",
        "plt.show()"
      ],
      "id": "uJldRVTut7oA"
    },
    {
      "cell_type": "markdown",
      "source": [
        "## Predict of next draw"
      ],
      "metadata": {
        "id": "knEZXPOgWP6n"
      },
      "id": "knEZXPOgWP6n"
    },
    {
      "cell_type": "code",
      "execution_count": null,
      "metadata": {
        "id": "wgA6Nlzz16Cj",
        "colab": {
          "base_uri": "https://localhost:8080/",
          "height": 245
        },
        "outputId": "a7aca964-967e-4d63-d1a9-3c9a9426f4a5"
      },
      "outputs": [
        {
          "output_type": "stream",
          "name": "stdout",
          "text": [
            "1/1 [==============================] - 0s 165ms/step\n"
          ]
        },
        {
          "output_type": "error",
          "ename": "IndexError",
          "evalue": "too many indices for array: array is 1-dimensional, but 2 were indexed",
          "traceback": [
            "\u001b[0;31m---------------------------------------------------------------------------\u001b[0m",
            "\u001b[0;31mIndexError\u001b[0m                                Traceback (most recent call last)",
            "\u001b[0;32m<ipython-input-46-be9950107d2e>\u001b[0m in \u001b[0;36m<cell line: 4>\u001b[0;34m()\u001b[0m\n\u001b[1;32m      2\u001b[0m \u001b[0mpred_latest\u001b[0m \u001b[0;34m=\u001b[0m \u001b[0mmodel\u001b[0m\u001b[0;34m.\u001b[0m\u001b[0mpredict\u001b[0m\u001b[0;34m(\u001b[0m\u001b[0mX_latest\u001b[0m\u001b[0;34m)\u001b[0m\u001b[0;34m\u001b[0m\u001b[0;34m\u001b[0m\u001b[0m\n\u001b[1;32m      3\u001b[0m \u001b[0mpred_latest\u001b[0m \u001b[0;34m=\u001b[0m \u001b[0mnp\u001b[0m\u001b[0;34m.\u001b[0m\u001b[0msqueeze\u001b[0m\u001b[0;34m(\u001b[0m\u001b[0mpred_latest\u001b[0m\u001b[0;34m)\u001b[0m\u001b[0;34m\u001b[0m\u001b[0;34m\u001b[0m\u001b[0m\n\u001b[0;32m----> 4\u001b[0;31m \u001b[0mpred_latest_greedy\u001b[0m \u001b[0;34m=\u001b[0m \u001b[0mnp\u001b[0m\u001b[0;34m.\u001b[0m\u001b[0margmax\u001b[0m\u001b[0;34m(\u001b[0m\u001b[0mpred_latest\u001b[0m\u001b[0;34m,\u001b[0m \u001b[0maxis\u001b[0m \u001b[0;34m=\u001b[0m \u001b[0;36m1\u001b[0m\u001b[0;34m)\u001b[0m\u001b[0;34m[\u001b[0m\u001b[0;34m:\u001b[0m\u001b[0;34m,\u001b[0m \u001b[0;34m-\u001b[0m\u001b[0;36m2\u001b[0m\u001b[0;34m:\u001b[0m\u001b[0;34m]\u001b[0m\u001b[0;34m\u001b[0m\u001b[0;34m\u001b[0m\u001b[0m\n\u001b[0m\u001b[1;32m      5\u001b[0m \u001b[0mprint\u001b[0m\u001b[0;34m(\u001b[0m\u001b[0mpred_latest_greedy\u001b[0m\u001b[0;34m)\u001b[0m\u001b[0;34m\u001b[0m\u001b[0;34m\u001b[0m\u001b[0m\n",
            "\u001b[0;31mIndexError\u001b[0m: too many indices for array: array is 1-dimensional, but 2 were indexed"
          ]
        }
      ],
      "source": [
        "X_latest = np.array([data[-w:, :]])\n",
        "pred_latest = model.predict(X_latest)\n",
        "pred_latest = np.squeeze(pred_latest)\n",
        "pred_latest_greedy = np.argmax(pred_latest, axis = 1)\n",
        "print(pred_latest_greedy)"
      ],
      "id": "wgA6Nlzz16Cj"
    },
    {
      "cell_type": "code",
      "source": [
        "top2_indices = np.argsort(pred_latest, axis=1)[:, -2:]\n",
        "\n",
        "# Print the indices\n",
        "print(top2_indices)"
      ],
      "metadata": {
        "colab": {
          "base_uri": "https://localhost:8080/"
        },
        "id": "KUNBPwAvjCVP",
        "outputId": "e506c840-d03e-4feb-f43f-9012fd34c02b"
      },
      "id": "KUNBPwAvjCVP",
      "execution_count": null,
      "outputs": [
        {
          "output_type": "stream",
          "name": "stdout",
          "text": [
            "[[ 3  1]\n",
            " [12 13]\n",
            " [18 22]\n",
            " [28 29]\n",
            " [36 41]\n",
            " [46 48]\n",
            " [ 5  9]]\n"
          ]
        }
      ]
    },
    {
      "cell_type": "code",
      "source": [],
      "metadata": {
        "id": "1pNokZWDlLGK"
      },
      "id": "1pNokZWDlLGK",
      "execution_count": null,
      "outputs": []
    }
  ],
  "metadata": {
    "accelerator": "TPU",
    "colab": {
      "provenance": [],
      "toc_visible": true,
      "include_colab_link": true
    },
    "kernelspec": {
      "display_name": "Python 3",
      "name": "python3"
    },
    "language_info": {
      "codemirror_mode": {
        "name": "ipython",
        "version": 3
      },
      "file_extension": ".py",
      "mimetype": "text/x-python",
      "name": "python",
      "nbconvert_exporter": "python",
      "pygments_lexer": "ipython3",
      "version": "3.10.9"
    }
  },
  "nbformat": 4,
  "nbformat_minor": 5
}